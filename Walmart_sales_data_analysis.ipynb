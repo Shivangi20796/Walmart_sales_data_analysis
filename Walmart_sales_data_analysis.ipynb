{
 "cells": [
  {
   "cell_type": "code",
   "execution_count": 1,
   "id": "79356e68-d2db-46a7-973e-41824e96dd60",
   "metadata": {},
   "outputs": [
    {
     "name": "stdout",
     "output_type": "stream",
     "text": [
      "Requirement already satisfied: numpy in c:\\users\\shivangi\\appdata\\local\\programs\\python\\python312\\lib\\site-packages (1.26.0)\n",
      "Requirement already satisfied: pandas in c:\\users\\shivangi\\appdata\\local\\programs\\python\\python312\\lib\\site-packages (2.2.0)\n",
      "Requirement already satisfied: numpy<2,>=1.26.0 in c:\\users\\shivangi\\appdata\\local\\programs\\python\\python312\\lib\\site-packages (from pandas) (1.26.0)\n",
      "Requirement already satisfied: python-dateutil>=2.8.2 in c:\\users\\shivangi\\appdata\\local\\programs\\python\\python312\\lib\\site-packages (from pandas) (2.8.2)\n",
      "Requirement already satisfied: pytz>=2020.1 in c:\\users\\shivangi\\appdata\\local\\programs\\python\\python312\\lib\\site-packages (from pandas) (2023.3.post1)\n",
      "Requirement already satisfied: tzdata>=2022.7 in c:\\users\\shivangi\\appdata\\local\\programs\\python\\python312\\lib\\site-packages (from pandas) (2023.3)\n",
      "Requirement already satisfied: six>=1.5 in c:\\users\\shivangi\\appdata\\local\\programs\\python\\python312\\lib\\site-packages (from python-dateutil>=2.8.2->pandas) (1.16.0)\n",
      "Requirement already satisfied: matplotlib in c:\\users\\shivangi\\appdata\\local\\programs\\python\\python312\\lib\\site-packages (3.8.0)\n",
      "Requirement already satisfied: contourpy>=1.0.1 in c:\\users\\shivangi\\appdata\\local\\programs\\python\\python312\\lib\\site-packages (from matplotlib) (1.1.1)\n",
      "Requirement already satisfied: cycler>=0.10 in c:\\users\\shivangi\\appdata\\local\\programs\\python\\python312\\lib\\site-packages (from matplotlib) (0.12.1)\n",
      "Requirement already satisfied: fonttools>=4.22.0 in c:\\users\\shivangi\\appdata\\local\\programs\\python\\python312\\lib\\site-packages (from matplotlib) (4.43.1)\n",
      "Requirement already satisfied: kiwisolver>=1.0.1 in c:\\users\\shivangi\\appdata\\local\\programs\\python\\python312\\lib\\site-packages (from matplotlib) (1.4.5)\n",
      "Requirement already satisfied: numpy<2,>=1.21 in c:\\users\\shivangi\\appdata\\local\\programs\\python\\python312\\lib\\site-packages (from matplotlib) (1.26.0)\n",
      "Requirement already satisfied: packaging>=20.0 in c:\\users\\shivangi\\appdata\\local\\programs\\python\\python312\\lib\\site-packages (from matplotlib) (23.2)\n",
      "Requirement already satisfied: pillow>=6.2.0 in c:\\users\\shivangi\\appdata\\local\\programs\\python\\python312\\lib\\site-packages (from matplotlib) (10.0.1)\n",
      "Requirement already satisfied: pyparsing>=2.3.1 in c:\\users\\shivangi\\appdata\\local\\programs\\python\\python312\\lib\\site-packages (from matplotlib) (3.1.1)\n",
      "Requirement already satisfied: python-dateutil>=2.7 in c:\\users\\shivangi\\appdata\\local\\programs\\python\\python312\\lib\\site-packages (from matplotlib) (2.8.2)\n",
      "Requirement already satisfied: six>=1.5 in c:\\users\\shivangi\\appdata\\local\\programs\\python\\python312\\lib\\site-packages (from python-dateutil>=2.7->matplotlib) (1.16.0)\n",
      "Requirement already satisfied: seaborn in c:\\users\\shivangi\\appdata\\local\\programs\\python\\python312\\lib\\site-packages (0.13.0)\n",
      "Requirement already satisfied: numpy!=1.24.0,>=1.20 in c:\\users\\shivangi\\appdata\\local\\programs\\python\\python312\\lib\\site-packages (from seaborn) (1.26.0)\n",
      "Requirement already satisfied: pandas>=1.2 in c:\\users\\shivangi\\appdata\\local\\programs\\python\\python312\\lib\\site-packages (from seaborn) (2.2.0)\n",
      "Requirement already satisfied: matplotlib!=3.6.1,>=3.3 in c:\\users\\shivangi\\appdata\\local\\programs\\python\\python312\\lib\\site-packages (from seaborn) (3.8.0)\n",
      "Requirement already satisfied: contourpy>=1.0.1 in c:\\users\\shivangi\\appdata\\local\\programs\\python\\python312\\lib\\site-packages (from matplotlib!=3.6.1,>=3.3->seaborn) (1.1.1)\n",
      "Requirement already satisfied: cycler>=0.10 in c:\\users\\shivangi\\appdata\\local\\programs\\python\\python312\\lib\\site-packages (from matplotlib!=3.6.1,>=3.3->seaborn) (0.12.1)\n",
      "Requirement already satisfied: fonttools>=4.22.0 in c:\\users\\shivangi\\appdata\\local\\programs\\python\\python312\\lib\\site-packages (from matplotlib!=3.6.1,>=3.3->seaborn) (4.43.1)\n",
      "Requirement already satisfied: kiwisolver>=1.0.1 in c:\\users\\shivangi\\appdata\\local\\programs\\python\\python312\\lib\\site-packages (from matplotlib!=3.6.1,>=3.3->seaborn) (1.4.5)\n",
      "Requirement already satisfied: packaging>=20.0 in c:\\users\\shivangi\\appdata\\local\\programs\\python\\python312\\lib\\site-packages (from matplotlib!=3.6.1,>=3.3->seaborn) (23.2)\n",
      "Requirement already satisfied: pillow>=6.2.0 in c:\\users\\shivangi\\appdata\\local\\programs\\python\\python312\\lib\\site-packages (from matplotlib!=3.6.1,>=3.3->seaborn) (10.0.1)\n",
      "Requirement already satisfied: pyparsing>=2.3.1 in c:\\users\\shivangi\\appdata\\local\\programs\\python\\python312\\lib\\site-packages (from matplotlib!=3.6.1,>=3.3->seaborn) (3.1.1)\n",
      "Requirement already satisfied: python-dateutil>=2.7 in c:\\users\\shivangi\\appdata\\local\\programs\\python\\python312\\lib\\site-packages (from matplotlib!=3.6.1,>=3.3->seaborn) (2.8.2)\n",
      "Requirement already satisfied: pytz>=2020.1 in c:\\users\\shivangi\\appdata\\local\\programs\\python\\python312\\lib\\site-packages (from pandas>=1.2->seaborn) (2023.3.post1)\n",
      "Requirement already satisfied: tzdata>=2022.7 in c:\\users\\shivangi\\appdata\\local\\programs\\python\\python312\\lib\\site-packages (from pandas>=1.2->seaborn) (2023.3)\n",
      "Requirement already satisfied: six>=1.5 in c:\\users\\shivangi\\appdata\\local\\programs\\python\\python312\\lib\\site-packages (from python-dateutil>=2.7->matplotlib!=3.6.1,>=3.3->seaborn) (1.16.0)\n",
      "Requirement already satisfied: scipy in c:\\users\\shivangi\\appdata\\local\\programs\\python\\python312\\lib\\site-packages (1.12.0)\n",
      "Requirement already satisfied: numpy<1.29.0,>=1.22.4 in c:\\users\\shivangi\\appdata\\local\\programs\\python\\python312\\lib\\site-packages (from scipy) (1.26.0)\n"
     ]
    }
   ],
   "source": [
    "!pip install numpy\n",
    "!pip install pandas\n",
    "!pip install matplotlib\n",
    "!pip install seaborn\n",
    "!pip install scipy"
   ]
  },
  {
   "cell_type": "code",
   "execution_count": 2,
   "id": "266a9c50-4ad9-416f-aa56-584328cafe9a",
   "metadata": {},
   "outputs": [],
   "source": [
    "# import python libraries\n",
    "import numpy as np # mathematical use\n",
    "import pandas as pd # dataframe\n",
    "import matplotlib.pyplot as plt # visualizing data\n",
    "%matplotlib inline\n",
    "import seaborn as sn\n",
    "import os\n",
    "from scipy import stats"
   ]
  },
  {
   "cell_type": "code",
   "execution_count": 3,
   "id": "74f87f49-25d0-4ee7-b520-431bdeabe332",
   "metadata": {},
   "outputs": [
    {
     "name": "stdout",
     "output_type": "stream",
     "text": [
      "C:\\Users\\Shivangi\\Downloads\\Data Analyst Assigment@jar/Walmart Sales.xlsx\n"
     ]
    }
   ],
   "source": [
    "current_dir = os.getcwd()\n",
    "file_path = current_dir + \"/Walmart Sales.xlsx\"\n",
    "print(file_path)"
   ]
  },
  {
   "cell_type": "code",
   "execution_count": 4,
   "id": "4c45e811-e930-4c85-9db7-42a2c08b7745",
   "metadata": {},
   "outputs": [],
   "source": [
    "df=pd.read_excel(file_path) #import Excel file"
   ]
  },
  {
   "cell_type": "code",
   "execution_count": 5,
   "id": "61a57405-8cf4-4412-9336-6c1266da78fd",
   "metadata": {},
   "outputs": [
    {
     "data": {
      "text/plain": [
       "(1000, 12)"
      ]
     },
     "execution_count": 5,
     "metadata": {},
     "output_type": "execute_result"
    }
   ],
   "source": [
    "df.shape # no. of row and column"
   ]
  },
  {
   "cell_type": "code",
   "execution_count": 6,
   "id": "c4bdb1e3-70d3-4f5c-bc60-99c881cdf996",
   "metadata": {},
   "outputs": [
    {
     "data": {
      "text/html": [
       "<div>\n",
       "<style scoped>\n",
       "    .dataframe tbody tr th:only-of-type {\n",
       "        vertical-align: middle;\n",
       "    }\n",
       "\n",
       "    .dataframe tbody tr th {\n",
       "        vertical-align: top;\n",
       "    }\n",
       "\n",
       "    .dataframe thead th {\n",
       "        text-align: right;\n",
       "    }\n",
       "</style>\n",
       "<table border=\"1\" class=\"dataframe\">\n",
       "  <thead>\n",
       "    <tr style=\"text-align: right;\">\n",
       "      <th></th>\n",
       "      <th>Invoice ID</th>\n",
       "      <th>Branch</th>\n",
       "      <th>City</th>\n",
       "      <th>Customer type</th>\n",
       "      <th>Gender</th>\n",
       "      <th>Product line</th>\n",
       "      <th>Unit price</th>\n",
       "      <th>Quantity</th>\n",
       "      <th>Date</th>\n",
       "      <th>Time</th>\n",
       "      <th>Payment</th>\n",
       "      <th>Rating</th>\n",
       "    </tr>\n",
       "  </thead>\n",
       "  <tbody>\n",
       "    <tr>\n",
       "      <th>0</th>\n",
       "      <td>750-67-8428</td>\n",
       "      <td>A</td>\n",
       "      <td>Yangon</td>\n",
       "      <td>Member</td>\n",
       "      <td>Female</td>\n",
       "      <td>Health and beauty</td>\n",
       "      <td>74.69</td>\n",
       "      <td>7</td>\n",
       "      <td>1/5/2019</td>\n",
       "      <td>13:08:00</td>\n",
       "      <td>Ewallet</td>\n",
       "      <td>9.1</td>\n",
       "    </tr>\n",
       "    <tr>\n",
       "      <th>1</th>\n",
       "      <td>226-31-3081</td>\n",
       "      <td>A</td>\n",
       "      <td>Naypyitaw</td>\n",
       "      <td>Normal</td>\n",
       "      <td>Female</td>\n",
       "      <td>Electronic accessories</td>\n",
       "      <td>15.28</td>\n",
       "      <td>5</td>\n",
       "      <td>3/8/2019</td>\n",
       "      <td>10:29:00</td>\n",
       "      <td>Cash</td>\n",
       "      <td>9.6</td>\n",
       "    </tr>\n",
       "    <tr>\n",
       "      <th>2</th>\n",
       "      <td>631-41-3108</td>\n",
       "      <td>A</td>\n",
       "      <td>Yangon</td>\n",
       "      <td>Normal</td>\n",
       "      <td>Male</td>\n",
       "      <td>Home and lifestyle</td>\n",
       "      <td>46.33</td>\n",
       "      <td>7</td>\n",
       "      <td>3/3/2019</td>\n",
       "      <td>13:23:00</td>\n",
       "      <td>Credit card</td>\n",
       "      <td>7.4</td>\n",
       "    </tr>\n",
       "    <tr>\n",
       "      <th>3</th>\n",
       "      <td>123-19-1176</td>\n",
       "      <td>B</td>\n",
       "      <td>Yangon</td>\n",
       "      <td>Member</td>\n",
       "      <td>Male</td>\n",
       "      <td>Health and beauty</td>\n",
       "      <td>58.22</td>\n",
       "      <td>8</td>\n",
       "      <td>1/27/2019</td>\n",
       "      <td>20:33:00</td>\n",
       "      <td>Ewallet</td>\n",
       "      <td>8.4</td>\n",
       "    </tr>\n",
       "    <tr>\n",
       "      <th>4</th>\n",
       "      <td>373-73-7910</td>\n",
       "      <td>C</td>\n",
       "      <td>Yangon</td>\n",
       "      <td>Normal</td>\n",
       "      <td>Male</td>\n",
       "      <td>Sports and travel</td>\n",
       "      <td>86.31</td>\n",
       "      <td>7</td>\n",
       "      <td>2/8/2019</td>\n",
       "      <td>10:37:00</td>\n",
       "      <td>Ewallet</td>\n",
       "      <td>5.3</td>\n",
       "    </tr>\n",
       "  </tbody>\n",
       "</table>\n",
       "</div>"
      ],
      "text/plain": [
       "    Invoice ID Branch       City Customer type  Gender  \\\n",
       "0  750-67-8428      A     Yangon        Member  Female   \n",
       "1  226-31-3081      A  Naypyitaw        Normal  Female   \n",
       "2  631-41-3108      A     Yangon        Normal    Male   \n",
       "3  123-19-1176      B     Yangon        Member    Male   \n",
       "4  373-73-7910      C     Yangon        Normal    Male   \n",
       "\n",
       "             Product line  Unit price  Quantity       Date      Time  \\\n",
       "0       Health and beauty       74.69         7   1/5/2019  13:08:00   \n",
       "1  Electronic accessories       15.28         5   3/8/2019  10:29:00   \n",
       "2      Home and lifestyle       46.33         7   3/3/2019  13:23:00   \n",
       "3       Health and beauty       58.22         8  1/27/2019  20:33:00   \n",
       "4       Sports and travel       86.31         7   2/8/2019  10:37:00   \n",
       "\n",
       "       Payment  Rating  \n",
       "0      Ewallet     9.1  \n",
       "1         Cash     9.6  \n",
       "2  Credit card     7.4  \n",
       "3      Ewallet     8.4  \n",
       "4      Ewallet     5.3  "
      ]
     },
     "execution_count": 6,
     "metadata": {},
     "output_type": "execute_result"
    }
   ],
   "source": [
    "df.head()"
   ]
  },
  {
   "cell_type": "code",
   "execution_count": 7,
   "id": "51176cad-91c3-4e92-a4c4-df6b1dc6ba82",
   "metadata": {},
   "outputs": [
    {
     "name": "stdout",
     "output_type": "stream",
     "text": [
      "<class 'pandas.core.frame.DataFrame'>\n",
      "RangeIndex: 1000 entries, 0 to 999\n",
      "Data columns (total 12 columns):\n",
      " #   Column         Non-Null Count  Dtype  \n",
      "---  ------         --------------  -----  \n",
      " 0   Invoice ID     1000 non-null   object \n",
      " 1   Branch         1000 non-null   object \n",
      " 2   City           1000 non-null   object \n",
      " 3   Customer type  1000 non-null   object \n",
      " 4   Gender         1000 non-null   object \n",
      " 5   Product line   1000 non-null   object \n",
      " 6   Unit price     1000 non-null   float64\n",
      " 7   Quantity       1000 non-null   int64  \n",
      " 8   Date           1000 non-null   object \n",
      " 9   Time           1000 non-null   object \n",
      " 10  Payment        1000 non-null   object \n",
      " 11  Rating         1000 non-null   float64\n",
      "dtypes: float64(2), int64(1), object(9)\n",
      "memory usage: 93.9+ KB\n"
     ]
    }
   ],
   "source": [
    "df.info()"
   ]
  },
  {
   "cell_type": "markdown",
   "id": "d45c8c57-bf48-4aba-a9a2-9f5a90de8a45",
   "metadata": {},
   "source": [
    "**DATA CLEANING**"
   ]
  },
  {
   "cell_type": "code",
   "execution_count": 8,
   "id": "2cc5f1b4-df82-4c2d-8adb-60f1e5f368c9",
   "metadata": {},
   "outputs": [
    {
     "name": "stdout",
     "output_type": "stream",
     "text": [
      "Missing Values Table:\n",
      "Invoice ID       0\n",
      "Branch           0\n",
      "City             0\n",
      "Customer type    0\n",
      "Gender           0\n",
      "Product line     0\n",
      "Unit price       0\n",
      "Quantity         0\n",
      "Date             0\n",
      "Time             0\n",
      "Payment          0\n",
      "Rating           0\n",
      "dtype: int64\n"
     ]
    }
   ],
   "source": [
    "# Check for missing values\n",
    "missing_values = df.isnull().sum()\n",
    "print(\"Missing Values Table:\")\n",
    "print(missing_values)"
   ]
  },
  {
   "cell_type": "code",
   "execution_count": 9,
   "id": "894c947d-d2ec-474a-839b-38190d06ed9f",
   "metadata": {},
   "outputs": [
    {
     "name": "stdout",
     "output_type": "stream",
     "text": [
      "Data Types:\n",
      "Invoice ID        object\n",
      "Branch            object\n",
      "City              object\n",
      "Customer type     object\n",
      "Gender            object\n",
      "Product line      object\n",
      "Unit price       float64\n",
      "Quantity           int64\n",
      "Date              object\n",
      "Time              object\n",
      "Payment           object\n",
      "Rating           float64\n",
      "dtype: object\n"
     ]
    }
   ],
   "source": [
    "#  Check data types\n",
    "data_types = df.dtypes\n",
    "print(\"Data Types:\")\n",
    "print(data_types)"
   ]
  },
  {
   "cell_type": "code",
   "execution_count": 10,
   "id": "dd6b24cb-25e2-4808-b770-4c2e6c4a04d1",
   "metadata": {},
   "outputs": [],
   "source": [
    "# Convert 'Date' column to datetime format\n",
    "df['Date'] = pd.to_datetime(df['Date'])"
   ]
  },
  {
   "cell_type": "code",
   "execution_count": 11,
   "id": "38f5dd2f-d26f-4416-a985-87f957eee76d",
   "metadata": {},
   "outputs": [
    {
     "name": "stdout",
     "output_type": "stream",
     "text": [
      "duplicates Values in a Table:\n",
      "0      False\n",
      "1      False\n",
      "2      False\n",
      "3      False\n",
      "4      False\n",
      "       ...  \n",
      "995    False\n",
      "996    False\n",
      "997    False\n",
      "998    False\n",
      "999    False\n",
      "Length: 1000, dtype: bool\n"
     ]
    }
   ],
   "source": [
    "# Check for duplicate values\n",
    "duplicates = df.duplicated()\n",
    "print(\"duplicates Values in a Table:\")\n",
    "print(duplicates)"
   ]
  },
  {
   "cell_type": "code",
   "execution_count": 12,
   "id": "9655cfef-276c-4970-95f9-bd0f459b29aa",
   "metadata": {},
   "outputs": [
    {
     "data": {
      "text/html": [
       "<div>\n",
       "<style scoped>\n",
       "    .dataframe tbody tr th:only-of-type {\n",
       "        vertical-align: middle;\n",
       "    }\n",
       "\n",
       "    .dataframe tbody tr th {\n",
       "        vertical-align: top;\n",
       "    }\n",
       "\n",
       "    .dataframe thead th {\n",
       "        text-align: right;\n",
       "    }\n",
       "</style>\n",
       "<table border=\"1\" class=\"dataframe\">\n",
       "  <thead>\n",
       "    <tr style=\"text-align: right;\">\n",
       "      <th></th>\n",
       "      <th>Unit price</th>\n",
       "      <th>Quantity</th>\n",
       "      <th>Date</th>\n",
       "      <th>Rating</th>\n",
       "    </tr>\n",
       "  </thead>\n",
       "  <tbody>\n",
       "    <tr>\n",
       "      <th>count</th>\n",
       "      <td>1000.000000</td>\n",
       "      <td>1000.000000</td>\n",
       "      <td>1000</td>\n",
       "      <td>1000.00000</td>\n",
       "    </tr>\n",
       "    <tr>\n",
       "      <th>mean</th>\n",
       "      <td>55.672130</td>\n",
       "      <td>5.510000</td>\n",
       "      <td>2019-02-14 00:05:45.600000</td>\n",
       "      <td>6.97270</td>\n",
       "    </tr>\n",
       "    <tr>\n",
       "      <th>min</th>\n",
       "      <td>10.080000</td>\n",
       "      <td>1.000000</td>\n",
       "      <td>2019-01-01 00:00:00</td>\n",
       "      <td>4.00000</td>\n",
       "    </tr>\n",
       "    <tr>\n",
       "      <th>25%</th>\n",
       "      <td>32.875000</td>\n",
       "      <td>3.000000</td>\n",
       "      <td>2019-01-24 00:00:00</td>\n",
       "      <td>5.50000</td>\n",
       "    </tr>\n",
       "    <tr>\n",
       "      <th>50%</th>\n",
       "      <td>55.230000</td>\n",
       "      <td>5.000000</td>\n",
       "      <td>2019-02-13 00:00:00</td>\n",
       "      <td>7.00000</td>\n",
       "    </tr>\n",
       "    <tr>\n",
       "      <th>75%</th>\n",
       "      <td>77.935000</td>\n",
       "      <td>8.000000</td>\n",
       "      <td>2019-03-08 00:00:00</td>\n",
       "      <td>8.50000</td>\n",
       "    </tr>\n",
       "    <tr>\n",
       "      <th>max</th>\n",
       "      <td>99.960000</td>\n",
       "      <td>10.000000</td>\n",
       "      <td>2019-03-30 00:00:00</td>\n",
       "      <td>10.00000</td>\n",
       "    </tr>\n",
       "    <tr>\n",
       "      <th>std</th>\n",
       "      <td>26.494628</td>\n",
       "      <td>2.923431</td>\n",
       "      <td>NaN</td>\n",
       "      <td>1.71858</td>\n",
       "    </tr>\n",
       "  </tbody>\n",
       "</table>\n",
       "</div>"
      ],
      "text/plain": [
       "        Unit price     Quantity                        Date      Rating\n",
       "count  1000.000000  1000.000000                        1000  1000.00000\n",
       "mean     55.672130     5.510000  2019-02-14 00:05:45.600000     6.97270\n",
       "min      10.080000     1.000000         2019-01-01 00:00:00     4.00000\n",
       "25%      32.875000     3.000000         2019-01-24 00:00:00     5.50000\n",
       "50%      55.230000     5.000000         2019-02-13 00:00:00     7.00000\n",
       "75%      77.935000     8.000000         2019-03-08 00:00:00     8.50000\n",
       "max      99.960000    10.000000         2019-03-30 00:00:00    10.00000\n",
       "std      26.494628     2.923431                         NaN     1.71858"
      ]
     },
     "execution_count": 12,
     "metadata": {},
     "output_type": "execute_result"
    }
   ],
   "source": [
    "df.describe() #Summary statistics of numerical columns"
   ]
  },
  {
   "cell_type": "code",
   "execution_count": 15,
   "id": "25ab9815-ef1f-4d9b-895e-90bea8a6ff45",
   "metadata": {},
   "outputs": [
    {
     "data": {
      "image/png": "[encoded data removed]",
      "text/plain": [
       "<Figure size 1000x600 with 1 Axes>"
      ]
     },
     "metadata": {},
     "output_type": "display_data"
    }
   ],
   "source": [
    "# Visualize distribution of numerical variables\n",
    "plt.figure(figsize=(10, 6))\n",
    "sn.histplot(df['Unit price'], bins=20, kde=True)\n",
    "plt.title(\"Distribution of Unit Price\")\n",
    "plt.xlabel(\"Unit Price\")\n",
    "plt.ylabel(\"Frequency\")\n",
    "plt.show()"
   ]
  },
  {
   "cell_type": "code",
   "execution_count": 17,
   "id": "b4989d60-bba5-40fd-a94a-158ceb7ebebd",
   "metadata": {},
   "outputs": [
    {
     "data": {
      "image/png": "[encoded data removed]",
      "text/plain": [
       "<Figure size 1200x800 with 4 Axes>"
      ]
     },
     "metadata": {},
     "output_type": "display_data"
    }
   ],
   "source": [
    "# Count of each category in categorical variables\n",
    "plt.figure(figsize=(12, 8))\n",
    "plt.subplot(2, 2, 1)\n",
    "df['Branch'].value_counts().plot(kind='bar', rot=0)\n",
    "plt.title(\"Branch\")\n",
    "plt.subplot(2, 2, 2)\n",
    "df['Customer type'].value_counts().plot(kind='bar', rot=0)\n",
    "plt.title(\"Customer Type\")\n",
    "plt.subplot(2, 2, 3)\n",
    "df['Gender'].value_counts().plot(kind='bar', rot=0)\n",
    "plt.title(\"Gender\")\n",
    "plt.subplot(2, 2, 4)\n",
    "df['Product line'].value_counts().plot(kind='bar', rot=45)\n",
    "plt.title(\"Product Line\")\n",
    "plt.tight_layout()\n",
    "plt.show()"
   ]
  },
  {
   "cell_type": "code",
   "execution_count": 37,
   "id": "91d7151e-4e4e-404f-abb6-cd4036917b42",
   "metadata": {},
   "outputs": [
    {
     "name": "stdout",
     "output_type": "stream",
     "text": [
      "categorical columns:\n",
      "Invoice ID\n",
      "Invoice ID\n",
      "750-67-8428    1\n",
      "642-61-4706    1\n",
      "816-72-8853    1\n",
      "491-38-3499    1\n",
      "322-02-2271    1\n",
      "              ..\n",
      "633-09-3463    1\n",
      "374-17-3652    1\n",
      "378-07-7001    1\n",
      "433-75-6987    1\n",
      "849-09-3807    1\n",
      "Name: count, Length: 1000, dtype: int64\n",
      "\n",
      "Branch\n",
      "Branch\n",
      "A    343\n",
      "B    340\n",
      "C    317\n",
      "Name: count, dtype: int64\n",
      "\n",
      "City\n",
      "City\n",
      "Yangon       340\n",
      "Mandalay     332\n",
      "Naypyitaw    328\n",
      "Name: count, dtype: int64\n",
      "\n",
      "Customer type\n",
      "Customer type\n",
      "Member    501\n",
      "Normal    499\n",
      "Name: count, dtype: int64\n",
      "\n",
      "Gender\n",
      "Gender\n",
      "Female    501\n",
      "Male      499\n",
      "Name: count, dtype: int64\n",
      "\n",
      "Product line\n",
      "Product line\n",
      "Fashion accessories       178\n",
      "Food and beverages        174\n",
      "Electronic accessories    170\n",
      "Sports and travel         166\n",
      "Home and lifestyle        160\n",
      "Health and beauty         152\n",
      "Name: count, dtype: int64\n",
      "\n",
      "Time\n",
      "Time\n",
      "19:48:00    7\n",
      "14:42:00    7\n",
      "17:38:00    6\n",
      "17:16:00    5\n",
      "11:40:00    5\n",
      "           ..\n",
      "13:26:00    1\n",
      "11:17:00    1\n",
      "14:57:00    1\n",
      "17:53:00    1\n",
      "19:12:00    1\n",
      "Name: count, Length: 506, dtype: int64\n",
      "\n",
      "Payment\n",
      "Payment\n",
      "Ewallet        345\n",
      "Cash           344\n",
      "Credit card    311\n",
      "Name: count, dtype: int64\n",
      "\n"
     ]
    }
   ],
   "source": [
    "print(\"categorical columns:\")\n",
    "for column in df.select_dtypes(include='object'):\n",
    "    print(column)\n",
    "    print(df[column].value_counts())\n",
    "    print()"
   ]
  },
  {
   "cell_type": "markdown",
   "id": "12b20bf2-0e8e-482c-9828-2a4eee34bfb7",
   "metadata": {},
   "source": [
    "**Exploratory Data Analysis**"
   ]
  },
  {
   "cell_type": "code",
   "execution_count": 38,
   "id": "786227a1-400c-4030-a7f7-e9f3b7c4019c",
   "metadata": {},
   "outputs": [
    {
     "name": "stdout",
     "output_type": "stream",
     "text": [
      "Sales and Revenue at City and Branch Level:\n",
      "                  Quantity  Unit price\n",
      "City      Branch                      \n",
      "Mandalay  A            637     6349.11\n",
      "          B            664     6623.73\n",
      "          C            519     5506.04\n",
      "Naypyitaw A            648     5953.55\n",
      "          B            604     6298.64\n",
      "          C            579     6315.57\n",
      "Yangon    A            598     6342.88\n",
      "          B            631     6329.25\n",
      "          C            630     5953.36\n"
     ]
    }
   ],
   "source": [
    "# A. Analyze the performance of sales and revenue at the city and branch level\n",
    "sales_revenue_city_branch = df.groupby(['City', 'Branch']).agg({'Quantity': 'sum', 'Unit price': 'sum'})\n",
    "print(\"Sales and Revenue at City and Branch Level:\")\n",
    "print(sales_revenue_city_branch)"
   ]
  },
  {
   "cell_type": "code",
   "execution_count": 39,
   "id": "6f3af6df-92d4-4f1b-bb95-fea4acbde59a",
   "metadata": {},
   "outputs": [
    {
     "name": "stdout",
     "output_type": "stream",
     "text": [
      "\n",
      "Average Price of Items Sold at Each Branch of the City:\n",
      "City       Branch\n",
      "Mandalay   A         53.353866\n",
      "           B         56.133305\n",
      "           C         57.958316\n",
      "Naypyitaw  A         54.123182\n",
      "           B         57.785688\n",
      "           C         57.941009\n",
      "Yangon     A         55.639298\n",
      "           B         56.011062\n",
      "           C         52.684602\n",
      "Name: Unit price, dtype: float64\n"
     ]
    }
   ],
   "source": [
    "# B. What is the average price of an item sold at each branch of the city\n",
    "avg_price_per_branch_city = df.groupby(['City', 'Branch'])['Unit price'].mean()\n",
    "print(\"\\nAverage Price of Items Sold at Each Branch of the City:\")\n",
    "print(avg_price_per_branch_city)"
   ]
  },
  {
   "cell_type": "code",
   "execution_count": 42,
   "id": "2800299a-da53-4350-85b1-229a291d2da3",
   "metadata": {},
   "outputs": [
    {
     "name": "stdout",
     "output_type": "stream",
     "text": [
      "\n",
      "Performance Analysis for April 2019:\n",
      "Empty DataFrame\n",
      "Columns: [Quantity, Unit price]\n",
      "Index: []\n"
     ]
    }
   ],
   "source": [
    "#C. Analyze the performance of sales and revenue, Month over Month across the\n",
    "#Product line, Gender, and Payment Method, and identify the focus areas to\n",
    "#get better sales for April 2019.\n",
    "\n",
    "april_2019_data = df[df['Date'].dt.month == 4]\n",
    "\n",
    "april_performance = april_2019_data.groupby(['Product line', 'Gender', 'Payment']).agg({'Quantity': 'sum', 'Unit price': 'sum'})\n",
    "print(\"\\nPerformance Analysis for April 2019:\")\n",
    "print(april_performance)\n"
   ]
  }
 ],
 "metadata": {
  "kernelspec": {
   "display_name": "Python 3 (ipykernel)",
   "language": "python",
   "name": "python3"
  },
  "language_info": {
   "codemirror_mode": {
    "name": "ipython",
    "version": 3
   },
   "file_extension": ".py",
   "mimetype": "text/x-python",
   "name": "python",
   "nbconvert_exporter": "python",
   "pygments_lexer": "ipython3",
   "version": "3.12.1"
  }
 },
 "nbformat": 4,
 "nbformat_minor": 5
}
